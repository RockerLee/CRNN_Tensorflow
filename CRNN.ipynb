{
 "cells": [
  {
   "cell_type": "code",
   "execution_count": 3,
   "metadata": {},
   "outputs": [
    {
     "name": "stdout",
     "output_type": "stream",
     "text": [
      "Tensor(\"inputs_1:0\", shape=(10000, 32, 100, 1), dtype=float32)\n",
      "Tensor(\"conv2d_13/Relu:0\", shape=(10000, 1, 25, 512), dtype=float32)\n",
      "Tensor(\"Reshape_1:0\", shape=(10000, 25, 512), dtype=float32)\n",
      "25\n"
     ]
    }
   ],
   "source": [
    "import tensorflow as tf\n",
    "# import os\n",
    "# os.sys.path.append('/anaconda3/envs/style-transfer/lib/python2.7/site-packages')\n",
    "\n",
    "def CNN(inputs):\n",
    "    # input: [batch, height, width, 1], [batch, 32, 100, 1]\n",
    "    # [batch, 32, 100, 64]\n",
    "    conv1 = tf.layers.conv2d(inputs=inputs, filters = 64, kernel_size = (3, 3), padding = \"same\", activation=tf.nn.relu)\n",
    "    # [batch, 16, 50, 64]\n",
    "    pool1 = tf.layers.max_pooling2d(inputs=conv1, pool_size=[2, 2], strides=2)\n",
    "    # [batch, 16, 50, 128]\n",
    "    conv2 = tf.layers.conv2d(inputs=pool1, filters = 128, kernel_size = (3, 3), padding = \"same\", activation=tf.nn.relu)\n",
    "    # [batch, 8, 25, 128]\n",
    "    pool2 = tf.layers.max_pooling2d(inputs=conv2, pool_size=[2, 2], strides=2)\n",
    "    # [batch, 8, 25, 256]\n",
    "    conv3 = tf.layers.conv2d(inputs=pool2, filters = 256, kernel_size = (3, 3), padding = \"same\", activation=tf.nn.relu)\n",
    "    # batch_normalization\n",
    "    bnorm1 = tf.layers.batch_normalization(conv3)\n",
    "    # [batch, 8, 25, 256]\n",
    "    conv4 = tf.layers.conv2d(inputs=bnorm1, filters = 256, kernel_size = (3, 3), padding = \"same\", activation=tf.nn.relu)\n",
    "    # [batch, 4, 25, 256]\n",
    "    pool3 = tf.layers.max_pooling2d(inputs=conv4, pool_size=[2, 1], strides=[2, 1], padding=\"valid\")\n",
    "    # [batch, 4, 25, 512]\n",
    "    conv5 = tf.layers.conv2d(inputs=pool3, filters = 512, kernel_size = (3, 3), padding = \"same\", activation=tf.nn.relu)\n",
    "    # Batch normalization layer\n",
    "    bnorm2 = tf.layers.batch_normalization(conv5)\n",
    "    # [batch, 4, 25, 512]\n",
    "    conv6 = tf.layers.conv2d(inputs=bnorm2, filters = 512, kernel_size = (3, 3), padding = \"same\", activation=tf.nn.relu)\n",
    "    # [batch, 2, 25, 512]\n",
    "    pool4 = tf.layers.max_pooling2d(inputs=conv6, pool_size=[2, 1], strides=[2, 1], padding=\"valid\")\n",
    "    # [batch, 1, 25, 512]\n",
    "    conv7 = tf.layers.conv2d(inputs=pool4, filters = 512, kernel_size = (2, 2), strides=[2, 1], padding = \"same\", activation=tf.nn.relu)\n",
    "    return conv7\n",
    "\n",
    "batch_size = 10000\n",
    "max_width = 100\n",
    "img_height = 32\n",
    "# max_width = 300\n",
    "# img_height = 64\n",
    "inputs = tf.placeholder(tf.float32, [batch_size, img_height, max_width, 1], name='inputs')\n",
    "\n",
    "# Our target output\n",
    "targets = tf.sparse_placeholder(tf.int32, name='targets')\n",
    "\n",
    "# The length of the sequence\n",
    "seq_len = tf.placeholder(tf.int32, [None], name='seq_len')\n",
    "\n",
    "cnn_output = CNN(inputs) #[batch_size, seq_length, 512], eg.[batch_size, 25, 512]\n",
    "\n",
    "\n",
    "reshaped_cnn_output = tf.reshape(cnn_output, [batch_size, -1, 512])\n",
    "\n",
    "max_char_count = reshaped_cnn_output.get_shape().as_list()[1]\n",
    "\n",
    "# crnn_model = BidirectionnalRNN(reshaped_cnn_output, seq_len)\n",
    "\n",
    "# logits = tf.reshape(crnn_model, [-1, 512])\n",
    "\n",
    "# W = tf.Variable(tf.truncated_normal([512, config.NUM_CLASSES], stddev=0.1), name=\"W\")\n",
    "# b = tf.Variable(tf.constant(0., shape=[config.NUM_CLASSES]), name=\"b\")\n",
    "\n",
    "# logits = tf.matmul(logits, W) + b\n",
    "\n",
    "# logits = tf.reshape(logits, [batch_size, -1, config.NUM_CLASSES])\n",
    "\n",
    "# # Final layer, the output of the BLSTM\n",
    "# logits = tf.transpose(logits, (1, 0, 2))\n",
    "\n",
    "# # Loss and cost calculation\n",
    "# loss = tf.nn.ctc_loss(targets, logits, seq_len)\n",
    "\n",
    "# cost = tf.reduce_mean(loss)\n",
    "\n",
    "# # Training step\n",
    "# optimizer = tf.train.AdamOptimizer(learning_rate=0.0001).minimize(cost)\n",
    "\n",
    "# # The decoded answer\n",
    "# decoded, log_prob = tf.nn.ctc_beam_search_decoder(logits, seq_len, merge_repeated=False)\n",
    "\n",
    "# dense_decoded = tf.sparse_tensor_to_dense(decoded[0], default_value=-1)\n",
    "\n",
    "# # The error rate\n",
    "# acc = tf.reduce_mean(tf.edit_distance(tf.cast(decoded[0], tf.int32), targets))\n",
    "\n",
    "init = tf.global_variables_initializer()\n",
    "\n",
    "\n",
    "with tf.Session() as sess:\n",
    "    sess.run(init)\n",
    "    print(inputs)\n",
    "#     print(conv4)\n",
    "#     print(pool3)\n",
    "#     print(pool4)\n",
    "    print(cnn_output)\n",
    "    print(reshaped_cnn_output)\n",
    "    print(max_char_count)"
   ]
  },
  {
   "cell_type": "code",
   "execution_count": 2,
   "metadata": {},
   "outputs": [
    {
     "name": "stdout",
     "output_type": "stream",
     "text": [
      "1\n"
     ]
    }
   ],
   "source": [
    "import config\n",
    "print(config.REPORT_STEPS)"
   ]
  },
  {
   "cell_type": "code",
   "execution_count": 13,
   "metadata": {},
   "outputs": [
    {
     "name": "stdout",
     "output_type": "stream",
     "text": [
      "Tensor(\"conv2d_18/Relu:0\", shape=(1, 5, 10, 16), dtype=float32)\n",
      "Tensor(\"max_pooling2d_15/MaxPool:0\", shape=(1, 5, 10, 16), dtype=float32)\n"
     ]
    }
   ],
   "source": []
  },
  {
   "cell_type": "code",
   "execution_count": 5,
   "metadata": {},
   "outputs": [
    {
     "name": "stdout",
     "output_type": "stream",
     "text": [
      "Tensor(\"Placeholder:0\", shape=(55000, 28, 256), dtype=float32)\n",
      "Tensor(\"strided_slice:0\", shape=(55000, 256), dtype=float32)\n",
      "Tensor(\"Placeholder_1:0\", shape=(2, 2, 55000, 256), dtype=float32)\n",
      "Tensor(\"strided_slice_2:0\", shape=(55000, 256), dtype=float32)\n"
     ]
    }
   ],
   "source": []
  },
  {
   "cell_type": "code",
   "execution_count": 5,
   "metadata": {},
   "outputs": [
    {
     "name": "stdout",
     "output_type": "stream",
     "text": [
      "cnn_output: Tensor(\"conv2d_6/Relu:0\", shape=(128, 1, 25, 512), dtype=float32)\n",
      "WARNING:tensorflow:From /home/ubuntu/anaconda3/lib/python3.6/site-packages/tensorflow/python/ops/rnn.py:430: calling reverse_sequence (from tensorflow.python.ops.array_ops) with seq_dim is deprecated and will be removed in a future version.\n",
      "Instructions for updating:\n",
      "seq_dim is deprecated, use seq_axis instead\n",
      "WARNING:tensorflow:From /home/ubuntu/anaconda3/lib/python3.6/site-packages/tensorflow/python/util/deprecation.py:454: calling reverse_sequence (from tensorflow.python.ops.array_ops) with batch_dim is deprecated and will be removed in a future version.\n",
      "Instructions for updating:\n",
      "batch_dim is deprecated, use batch_axis instead\n",
      "rnn_output: Tensor(\"bidirectional-rnn-2/concat:0\", shape=(128, 25, 512), dtype=float32)\n",
      "decoded: [<tensorflow.python.framework.sparse_tensor.SparseTensor object at 0x7f6e66973470>]\n",
      "dense_decoded: Tensor(\"SparseToDense:0\", shape=(?, ?), dtype=int64)\n"
     ]
    }
   ],
   "source": [
    "# from crnn import CRNN\n",
    "import importlib\n",
    "mod_crnn = importlib.import_module('crnn')\n",
    "importlib.reload(mod_crnn)\n",
    "from crnn import CRNN\n",
    "crnn = CRNN(\n",
    "    batch_size=128, model_path = '', data_path = '', \n",
    "    max_image_width = 100, train_test_ratio = 0.8, restore = False, debug = True\n",
    ")"
   ]
  },
  {
   "cell_type": "code",
   "execution_count": null,
   "metadata": {
    "collapsed": true
   },
   "outputs": [],
   "source": []
  },
  {
   "cell_type": "code",
   "execution_count": null,
   "metadata": {
    "collapsed": true
   },
   "outputs": [],
   "source": []
  }
 ],
 "metadata": {
  "kernelspec": {
   "display_name": "Python 3",
   "language": "python",
   "name": "python3"
  },
  "language_info": {
   "codemirror_mode": {
    "name": "ipython",
    "version": 3
   },
   "file_extension": ".py",
   "mimetype": "text/x-python",
   "name": "python",
   "nbconvert_exporter": "python",
   "pygments_lexer": "ipython3",
   "version": "3.6.1"
  }
 },
 "nbformat": 4,
 "nbformat_minor": 2
}
